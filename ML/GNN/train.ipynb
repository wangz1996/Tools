{
 "cells": [
  {
   "cell_type": "markdown",
   "metadata": {},
   "source": [
    "# Train ParticleNet"
   ]
  },
  {
   "cell_type": "code",
   "execution_count": 1,
   "metadata": {
    "tags": []
   },
   "outputs": [],
   "source": [
    "import glob\n",
    "\n",
    "import numpy as np\n",
    "\n",
    "import torch\n",
    "import torch.nn as nn\n",
    "from torch_geometric.loader import DataLoader\n",
    "\n",
    "from itertools import cycle\n",
    "from sklearn.metrics import roc_curve, auc\n",
    "\n",
    "%matplotlib inline\n",
    "\n",
    "import matplotlib\n",
    "import matplotlib.pyplot as plt\n",
    "import matplotlib.colors as mcolors\n",
    "import mplhep as hep\n",
    "\n",
    "plt.style.use(hep.style.CMS)\n",
    "plt.rcParams.update({'font.size': 20})\n",
    "\n",
    "from tqdm.notebook import tqdm\n",
    "\n",
    "from torch_geometric.explain import Explainer, GNNExplainer\n",
    "\n",
    "# import xai4hep"
   ]
  },
  {
   "cell_type": "markdown",
   "metadata": {},
   "source": [
    "## Get dataset"
   ]
  },
  {
   "cell_type": "code",
   "execution_count": 32,
   "metadata": {
    "tags": []
   },
   "outputs": [
    {
     "name": "stderr",
     "output_type": "stream",
     "text": [
      "C:\\Users\\Administrator\\AppData\\Local\\Temp\\ipykernel_20576\\123028539.py:2: FutureWarning: You are using `torch.load` with `weights_only=False` (the current default value), which uses the default pickle module implicitly. It is possible to construct malicious pickle data which will execute arbitrary code during unpickling (See https://github.com/pytorch/pytorch/blob/main/SECURITY.md#untrusted-models for more details). In a future release, the default value for `weights_only` will be flipped to `True`. This limits the functions that could be executed during unpickling. Arbitrary objects will no longer be allowed to be loaded via this mode unless they are explicitly allowlisted by the user via `torch.serialization.add_safe_globals`. We recommend you start setting `weights_only=True` for any use case where you don't have full control of the loaded file. Please open an issue on GitHub for any issues related to this experimental feature.\n",
      "  dataset = torch.load(\"gnn_dataset_regression.pt\")\n"
     ]
    }
   ],
   "source": [
    "from torch.utils.data import random_split\n",
    "dataset = torch.load(\"gnn_dataset_regression.pt\")\n",
    "for i in range(len(dataset)):\n",
    "    sample = dataset[i]\n",
    "    sample.x = sample.x.float()  # 转换为 float32\n",
    "    dataset[i] = sample\n",
    "dataset_size = len(dataset)\n",
    "train_dataset, val_dataset, test_dataset = random_split(dataset, [int(0.8 * dataset_size), int(0.1 * dataset_size), int(0.1 * dataset_size)])"
   ]
  },
  {
   "cell_type": "markdown",
   "metadata": {},
   "source": [
    "## Explore dataset"
   ]
  },
  {
   "cell_type": "code",
   "execution_count": 33,
   "metadata": {
    "tags": []
   },
   "outputs": [
    {
     "name": "stdout",
     "output_type": "stream",
     "text": [
      "Data(x=[42, 7], y=1000.0)\n",
      "Data(x=[15, 7], y=50.0)\n",
      "Data(x=[1, 7], y=2000.0)\n",
      "Data(x=[1, 7], y=500.0)\n",
      "Data(x=[1, 7], y=1000.0)\n"
     ]
    }
   ],
   "source": [
    "subset_list = list(test_dataset)\n",
    "for sample in subset_list[:5]:\n",
    "    print(sample)"
   ]
  },
  {
   "cell_type": "code",
   "execution_count": 34,
   "metadata": {
    "tags": []
   },
   "outputs": [
    {
     "data": {
      "text/plain": [
       "tensor([[-37.3319,   0.0000,  11.9013,  11.9013,  11.9013,  11.9013,  37.3319],\n",
       "        [ -2.5818,   0.1906,   0.1000,   0.1000,   0.1000,   0.1000,   2.5888],\n",
       "        [ -2.8788,   0.2585,   0.1000,   0.1000,   0.1000,   0.1000,   2.8904],\n",
       "        [ -2.8836,   0.2598,   0.1000,   0.1000,   0.1000,   0.1000,   2.8952],\n",
       "        [ -2.8884,   0.2611,   0.1000,   0.1000,   0.1000,   0.1000,   2.9002],\n",
       "        [ -2.5825,   0.1870,   0.1000,   0.1000,   0.1000,   0.1000,   2.5892],\n",
       "        [ -2.8800,   0.2537,   0.1000,   0.1000,   0.1000,   0.1000,   2.8912],\n",
       "        [ -2.8848,   0.2549,   0.1000,   0.1000,   0.1000,   0.1000,   2.8961],\n",
       "        [ -2.8897,   0.2562,   0.1000,   0.1000,   0.1000,   0.1000,   2.9010],\n",
       "        [ -2.4630,   0.3119,   0.1000,   0.1000,   0.1000,   0.1000,   2.4827],\n",
       "        [ -2.4666,   0.3130,   0.1000,   0.1000,   0.1000,   0.1000,   2.4864],\n",
       "        [ -2.5030,   0.1331,   0.1000,   0.1000,   0.1000,   0.1000,   2.5065],\n",
       "        [ -2.5069,   0.1337,   0.1000,   0.1000,   0.1000,   0.1000,   2.5105],\n",
       "        [ -2.5035,   0.1292,   0.1000,   0.1000,   0.1000,   0.1000,   2.5068],\n",
       "        [ -2.5074,   0.1297,   0.1000,   0.1000,   0.1000,   0.1000,   2.5108]])"
      ]
     },
     "execution_count": 34,
     "metadata": {},
     "output_type": "execute_result"
    }
   ],
   "source": [
    "test_dataset[1].x"
   ]
  },
  {
   "cell_type": "code",
   "execution_count": 35,
   "metadata": {
    "tags": []
   },
   "outputs": [],
   "source": [
    "test_loader = DataLoader(test_dataset, batch_size=128)\n",
    "val_loader = DataLoader(train_dataset, batch_size=128)"
   ]
  },
  {
   "cell_type": "markdown",
   "metadata": {},
   "source": [
    "## Get model"
   ]
  },
  {
   "cell_type": "code",
   "execution_count": 50,
   "metadata": {
    "tags": []
   },
   "outputs": [],
   "source": [
    "# the actual particlenet model can be imported via `xai4hep.particlenet import ParticleNet`\n",
    "# the model is below is a simplified one\n",
    "\n",
    "import torch.nn.functional as F\n",
    "from torch import Tensor\n",
    "from torch_cluster import knn_graph\n",
    "from torch_geometric.nn import global_mean_pool\n",
    "from torch_geometric.nn.conv import MessagePassing, EdgeConv\n",
    "from torch_geometric.typing import Adj, PairTensor\n",
    "\n",
    "\n",
    "class EdgeConvBlock(nn.Module):\n",
    "    def __init__(self, in_size, layer_size, depth):\n",
    "        super(EdgeConvBlock, self).__init__()\n",
    "\n",
    "        layers = []\n",
    "\n",
    "        layers.append(nn.Linear(in_size * 2, layer_size))\n",
    "        layers.append(nn.BatchNorm1d(layer_size))\n",
    "        layers.append(nn.ReLU())\n",
    "\n",
    "        for i in range(depth):\n",
    "            layers.append(nn.Linear(layer_size, layer_size))\n",
    "            layers.append(nn.BatchNorm1d(layer_size))\n",
    "            layers.append(nn.ReLU())\n",
    "\n",
    "        self.edge_conv = EdgeConv(nn.Sequential(*layers), aggr=\"mean\")\n",
    "\n",
    "    def forward(self, x, edge_index):\n",
    "        return self.edge_conv(x, edge_index)\n",
    "\n",
    "\n",
    "class ParticleNet(nn.Module):\n",
    "    def __init__(\n",
    "        self,\n",
    "        node_feat_size,\n",
    "        num_classes=1,\n",
    "        depth=1,\n",
    "    ):\n",
    "        super(ParticleNet, self).__init__()\n",
    "\n",
    "        self.node_feat_size = node_feat_size\n",
    "        self.num_classes = num_classes\n",
    "\n",
    "        self.fc_size = 256\n",
    "\n",
    "        # define the edgeconvblocks\n",
    "        self.edge_conv_block = EdgeConvBlock(node_feat_size, 256, depth=depth)\n",
    "\n",
    "        # define the fully connected networks (post-edgeconvs)\n",
    "        self.fc1 = nn.Linear(node_feat_size + 256, self.fc_size)\n",
    "        self.fc2 = nn.Linear(self.fc_size, self.num_classes)\n",
    "\n",
    "        self.sig = nn.Sigmoid()\n",
    "\n",
    "    def forward(self, x, edge_index, batch=None):\n",
    "        # input transformations\n",
    "        x[:, 2] = (x[:, 2] - 1.7) * 0.7  # part_pt_log\n",
    "        x[:, 3] = (x[:, 3] - 2.0) * 0.7  # part_e_log\n",
    "        x[:, 4] = (x[:, 4] + 4.7) * 0.7  # part_logptrel\n",
    "        x[:, 5] = (x[:, 5] + 4.7) * 0.7  # part_logerel\n",
    "        x[:, 6] = (x[:, 6] - 0.2) * 4.7  # part_deltaR\n",
    "\n",
    "        # useful placeholders for LRP studies\n",
    "        out = self.edge_conv_block(x, edge_index)\n",
    "        x = torch.cat((out, x), dim=1)  # concatenating with latent features i.e. skip connections per EdgeConvBlock\n",
    "\n",
    "        if batch is None:\n",
    "            x = x.sum(axis=0)\n",
    "        else:\n",
    "            x = global_mean_pool(x, batch)\n",
    "\n",
    "        x = F.relu(self.fc1(x))\n",
    "        x = self.fc2(x)\n",
    "#         x = self.sig(x)*(5000) # Currently removed for regression\n",
    "\n",
    "        return x\n",
    "\n",
    "\n",
    "# setup the input/output dimension of the model\n",
    "k = 12\n",
    "\n",
    "model_kwargs = {\n",
    "    \"node_feat_size\": 7,\n",
    "    \"num_classes\": 1,\n",
    "    \"depth\": 3,\n",
    "}\n",
    "\n",
    "model = ParticleNet(**model_kwargs)"
   ]
  },
  {
   "cell_type": "code",
   "execution_count": 51,
   "metadata": {
    "scrolled": true,
    "tags": []
   },
   "outputs": [
    {
     "name": "stdout",
     "output_type": "stream",
     "text": [
      "loss on batch 0: 4359700.0\n",
      "loss on batch 10: 4048991.5\n",
      "loss on batch 20: 5589926.5\n",
      "loss on batch 30: 3277007.0\n",
      "loss on batch 40: 2916140.25\n",
      "loss on batch 50: 2552634.25\n",
      "loss on batch 60: 2475973.5\n",
      "loss on batch 70: 2882793.5\n",
      "loss on batch 80: 2824681.5\n",
      "loss on batch 90: 2469975.75\n",
      "loss on batch 100: 2458592.25\n"
     ]
    }
   ],
   "source": [
    "# train the model\n",
    "def train(loader, model, idx=100):\n",
    "    model.train()\n",
    "#     criterion = nn.BCELoss()\n",
    "    criterion = nn.MSELoss() # for regression\n",
    "    optimizer = torch.optim.Adam(model.parameters(), lr=1e-3)\n",
    "\n",
    "    for i, batch in enumerate(loader):\n",
    "        edge_index = knn_graph(batch.x[:, :2], k, batch.batch)\n",
    "\n",
    "        preds = model(batch.x, edge_index, batch.batch)\n",
    "\n",
    "        # compute the invariance loss which is contrained by the other loss terms\n",
    "        loss = criterion(preds, batch.y.unsqueeze(-1).float())\n",
    "\n",
    "        # backprop\n",
    "        for param in model.parameters():\n",
    "            param.grad = None\n",
    "        loss.backward()\n",
    "        optimizer.step()\n",
    "\n",
    "        optimizer.step()\n",
    "        if i % 10 == 0:\n",
    "            print(f\"loss on batch {i}: {loss.detach()}\")\n",
    "\n",
    "        if i == idx:\n",
    "            break\n",
    "\n",
    "\n",
    "train(val_loader, model, idx=100)"
   ]
  },
  {
   "cell_type": "code",
   "execution_count": 38,
   "metadata": {
    "tags": []
   },
   "outputs": [
    {
     "data": {
      "text/plain": [
       "271105"
      ]
     },
     "execution_count": 38,
     "metadata": {},
     "output_type": "execute_result"
    }
   ],
   "source": [
    "def count_parameters(model):\n",
    "    return sum(p.numel() for p in model.parameters() if p.requires_grad)\n",
    "\n",
    "\n",
    "count_parameters(model)"
   ]
  },
  {
   "cell_type": "code",
   "execution_count": 39,
   "metadata": {
    "tags": []
   },
   "outputs": [
    {
     "ename": "ValueError",
     "evalue": "multiclass format is not supported",
     "output_type": "error",
     "traceback": [
      "\u001b[1;31m---------------------------------------------------------------------------\u001b[0m",
      "\u001b[1;31mValueError\u001b[0m                                Traceback (most recent call last)",
      "Cell \u001b[1;32mIn[39], line 22\u001b[0m\n\u001b[0;32m     18\u001b[0m preds_, targets_ \u001b[38;5;241m=\u001b[39m test(test_loader, model, idx\u001b[38;5;241m=\u001b[39m\u001b[38;5;241m100\u001b[39m)\n\u001b[0;32m     20\u001b[0m fig, ax \u001b[38;5;241m=\u001b[39m plt\u001b[38;5;241m.\u001b[39msubplots(figsize\u001b[38;5;241m=\u001b[39m[\u001b[38;5;241m7\u001b[39m, \u001b[38;5;241m6\u001b[39m])\n\u001b[1;32m---> 22\u001b[0m fpr, tpr, _ \u001b[38;5;241m=\u001b[39m roc_curve(targets_, preds_)\n\u001b[0;32m     23\u001b[0m ax\u001b[38;5;241m.\u001b[39mplot(\n\u001b[0;32m     24\u001b[0m     tpr,\n\u001b[0;32m     25\u001b[0m     fpr,\n\u001b[1;32m   (...)\u001b[0m\n\u001b[0;32m     28\u001b[0m     label\u001b[38;5;241m=\u001b[39m\u001b[38;5;124mf\u001b[39m\u001b[38;5;124m\"\u001b[39m\u001b[38;5;124mPN: AUC = \u001b[39m\u001b[38;5;132;01m{\u001b[39;00m\u001b[38;5;28mround\u001b[39m(auc(fpr,\u001b[38;5;250m \u001b[39mtpr)\u001b[38;5;241m*\u001b[39m\u001b[38;5;241m100\u001b[39m,\u001b[38;5;241m2\u001b[39m)\u001b[38;5;132;01m}\u001b[39;00m\u001b[38;5;124m%\u001b[39m\u001b[38;5;124m\"\u001b[39m,\n\u001b[0;32m     29\u001b[0m )\n\u001b[0;32m     31\u001b[0m plt\u001b[38;5;241m.\u001b[39mxlim([\u001b[38;5;241m0.0\u001b[39m, \u001b[38;5;241m1.0\u001b[39m])\n",
      "File \u001b[1;32mD:\\Ana\\Anaconda\\Lib\\site-packages\\sklearn\\utils\\_param_validation.py:211\u001b[0m, in \u001b[0;36mvalidate_params.<locals>.decorator.<locals>.wrapper\u001b[1;34m(*args, **kwargs)\u001b[0m\n\u001b[0;32m    205\u001b[0m \u001b[38;5;28;01mtry\u001b[39;00m:\n\u001b[0;32m    206\u001b[0m     \u001b[38;5;28;01mwith\u001b[39;00m config_context(\n\u001b[0;32m    207\u001b[0m         skip_parameter_validation\u001b[38;5;241m=\u001b[39m(\n\u001b[0;32m    208\u001b[0m             prefer_skip_nested_validation \u001b[38;5;129;01mor\u001b[39;00m global_skip_validation\n\u001b[0;32m    209\u001b[0m         )\n\u001b[0;32m    210\u001b[0m     ):\n\u001b[1;32m--> 211\u001b[0m         \u001b[38;5;28;01mreturn\u001b[39;00m func(\u001b[38;5;241m*\u001b[39margs, \u001b[38;5;241m*\u001b[39m\u001b[38;5;241m*\u001b[39mkwargs)\n\u001b[0;32m    212\u001b[0m \u001b[38;5;28;01mexcept\u001b[39;00m InvalidParameterError \u001b[38;5;28;01mas\u001b[39;00m e:\n\u001b[0;32m    213\u001b[0m     \u001b[38;5;66;03m# When the function is just a wrapper around an estimator, we allow\u001b[39;00m\n\u001b[0;32m    214\u001b[0m     \u001b[38;5;66;03m# the function to delegate validation to the estimator, but we replace\u001b[39;00m\n\u001b[0;32m    215\u001b[0m     \u001b[38;5;66;03m# the name of the estimator by the name of the function in the error\u001b[39;00m\n\u001b[0;32m    216\u001b[0m     \u001b[38;5;66;03m# message to avoid confusion.\u001b[39;00m\n\u001b[0;32m    217\u001b[0m     msg \u001b[38;5;241m=\u001b[39m re\u001b[38;5;241m.\u001b[39msub(\n\u001b[0;32m    218\u001b[0m         \u001b[38;5;124mr\u001b[39m\u001b[38;5;124m\"\u001b[39m\u001b[38;5;124mparameter of \u001b[39m\u001b[38;5;124m\\\u001b[39m\u001b[38;5;124mw+ must be\u001b[39m\u001b[38;5;124m\"\u001b[39m,\n\u001b[0;32m    219\u001b[0m         \u001b[38;5;124mf\u001b[39m\u001b[38;5;124m\"\u001b[39m\u001b[38;5;124mparameter of \u001b[39m\u001b[38;5;132;01m{\u001b[39;00mfunc\u001b[38;5;241m.\u001b[39m\u001b[38;5;18m__qualname__\u001b[39m\u001b[38;5;132;01m}\u001b[39;00m\u001b[38;5;124m must be\u001b[39m\u001b[38;5;124m\"\u001b[39m,\n\u001b[0;32m    220\u001b[0m         \u001b[38;5;28mstr\u001b[39m(e),\n\u001b[0;32m    221\u001b[0m     )\n",
      "File \u001b[1;32mD:\\Ana\\Anaconda\\Lib\\site-packages\\sklearn\\metrics\\_ranking.py:1094\u001b[0m, in \u001b[0;36mroc_curve\u001b[1;34m(y_true, y_score, pos_label, sample_weight, drop_intermediate)\u001b[0m\n\u001b[0;32m    992\u001b[0m \u001b[38;5;129m@validate_params\u001b[39m(\n\u001b[0;32m    993\u001b[0m     {\n\u001b[0;32m    994\u001b[0m         \u001b[38;5;124m\"\u001b[39m\u001b[38;5;124my_true\u001b[39m\u001b[38;5;124m\"\u001b[39m: [\u001b[38;5;124m\"\u001b[39m\u001b[38;5;124marray-like\u001b[39m\u001b[38;5;124m\"\u001b[39m],\n\u001b[1;32m   (...)\u001b[0m\n\u001b[0;32m   1003\u001b[0m     y_true, y_score, \u001b[38;5;241m*\u001b[39m, pos_label\u001b[38;5;241m=\u001b[39m\u001b[38;5;28;01mNone\u001b[39;00m, sample_weight\u001b[38;5;241m=\u001b[39m\u001b[38;5;28;01mNone\u001b[39;00m, drop_intermediate\u001b[38;5;241m=\u001b[39m\u001b[38;5;28;01mTrue\u001b[39;00m\n\u001b[0;32m   1004\u001b[0m ):\n\u001b[0;32m   1005\u001b[0m \u001b[38;5;250m    \u001b[39m\u001b[38;5;124;03m\"\"\"Compute Receiver operating characteristic (ROC).\u001b[39;00m\n\u001b[0;32m   1006\u001b[0m \n\u001b[0;32m   1007\u001b[0m \u001b[38;5;124;03m    Note: this implementation is restricted to the binary classification task.\u001b[39;00m\n\u001b[1;32m   (...)\u001b[0m\n\u001b[0;32m   1092\u001b[0m \u001b[38;5;124;03m    array([ inf, 0.8 , 0.4 , 0.35, 0.1 ])\u001b[39;00m\n\u001b[0;32m   1093\u001b[0m \u001b[38;5;124;03m    \"\"\"\u001b[39;00m\n\u001b[1;32m-> 1094\u001b[0m     fps, tps, thresholds \u001b[38;5;241m=\u001b[39m _binary_clf_curve(\n\u001b[0;32m   1095\u001b[0m         y_true, y_score, pos_label\u001b[38;5;241m=\u001b[39mpos_label, sample_weight\u001b[38;5;241m=\u001b[39msample_weight\n\u001b[0;32m   1096\u001b[0m     )\n\u001b[0;32m   1098\u001b[0m     \u001b[38;5;66;03m# Attempt to drop thresholds corresponding to points in between and\u001b[39;00m\n\u001b[0;32m   1099\u001b[0m     \u001b[38;5;66;03m# collinear with other points. These are always suboptimal and do not\u001b[39;00m\n\u001b[0;32m   1100\u001b[0m     \u001b[38;5;66;03m# appear on a plotted ROC curve (and thus do not affect the AUC).\u001b[39;00m\n\u001b[1;32m   (...)\u001b[0m\n\u001b[0;32m   1105\u001b[0m     \u001b[38;5;66;03m# but does not drop more complicated cases like fps = [1, 3, 7],\u001b[39;00m\n\u001b[0;32m   1106\u001b[0m     \u001b[38;5;66;03m# tps = [1, 2, 4]; there is no harm in keeping too many thresholds.\u001b[39;00m\n\u001b[0;32m   1107\u001b[0m     \u001b[38;5;28;01mif\u001b[39;00m drop_intermediate \u001b[38;5;129;01mand\u001b[39;00m \u001b[38;5;28mlen\u001b[39m(fps) \u001b[38;5;241m>\u001b[39m \u001b[38;5;241m2\u001b[39m:\n",
      "File \u001b[1;32mD:\\Ana\\Anaconda\\Lib\\site-packages\\sklearn\\metrics\\_ranking.py:803\u001b[0m, in \u001b[0;36m_binary_clf_curve\u001b[1;34m(y_true, y_score, pos_label, sample_weight)\u001b[0m\n\u001b[0;32m    801\u001b[0m y_type \u001b[38;5;241m=\u001b[39m type_of_target(y_true, input_name\u001b[38;5;241m=\u001b[39m\u001b[38;5;124m\"\u001b[39m\u001b[38;5;124my_true\u001b[39m\u001b[38;5;124m\"\u001b[39m)\n\u001b[0;32m    802\u001b[0m \u001b[38;5;28;01mif\u001b[39;00m \u001b[38;5;129;01mnot\u001b[39;00m (y_type \u001b[38;5;241m==\u001b[39m \u001b[38;5;124m\"\u001b[39m\u001b[38;5;124mbinary\u001b[39m\u001b[38;5;124m\"\u001b[39m \u001b[38;5;129;01mor\u001b[39;00m (y_type \u001b[38;5;241m==\u001b[39m \u001b[38;5;124m\"\u001b[39m\u001b[38;5;124mmulticlass\u001b[39m\u001b[38;5;124m\"\u001b[39m \u001b[38;5;129;01mand\u001b[39;00m pos_label \u001b[38;5;129;01mis\u001b[39;00m \u001b[38;5;129;01mnot\u001b[39;00m \u001b[38;5;28;01mNone\u001b[39;00m)):\n\u001b[1;32m--> 803\u001b[0m     \u001b[38;5;28;01mraise\u001b[39;00m \u001b[38;5;167;01mValueError\u001b[39;00m(\u001b[38;5;124m\"\u001b[39m\u001b[38;5;132;01m{0}\u001b[39;00m\u001b[38;5;124m format is not supported\u001b[39m\u001b[38;5;124m\"\u001b[39m\u001b[38;5;241m.\u001b[39mformat(y_type))\n\u001b[0;32m    805\u001b[0m check_consistent_length(y_true, y_score, sample_weight)\n\u001b[0;32m    806\u001b[0m y_true \u001b[38;5;241m=\u001b[39m column_or_1d(y_true)\n",
      "\u001b[1;31mValueError\u001b[0m: multiclass format is not supported"
     ]
    },
    {
     "data": {
      "image/png": "[encoded data removed]",
      "text/plain": [
       "<Figure size 700x600 with 1 Axes>"
      ]
     },
     "metadata": {},
     "output_type": "display_data"
    }
   ],
   "source": [
    "# test\n",
    "@torch.no_grad()\n",
    "def test(loader, model, idx=100):\n",
    "    model.eval()\n",
    "    targets_ = []\n",
    "    preds_ = []\n",
    "    for i, batch in enumerate(loader):\n",
    "        edge_index = knn_graph(batch.x[:, :2], k)\n",
    "\n",
    "        preds_ += model(batch.x, edge_index, batch.batch).tolist()\n",
    "        targets_ += batch.y.tolist()\n",
    "\n",
    "        if i == idx:\n",
    "            break\n",
    "    return preds_, targets_\n",
    "\n",
    "\n",
    "preds_, targets_ = test(test_loader, model, idx=100)\n",
    "\n",
    "fig, ax = plt.subplots(figsize=[7, 6])\n",
    "\n",
    "fpr, tpr, _ = roc_curve(targets_, preds_)\n",
    "ax.plot(\n",
    "    tpr,\n",
    "    fpr,\n",
    "    color=\"darkorange\",\n",
    "    lw=2,\n",
    "    label=f\"PN: AUC = {round(auc(fpr, tpr)*100,2)}%\",\n",
    ")\n",
    "\n",
    "plt.xlim([0.0, 1.0])\n",
    "plt.ylim([1e-3, 1.0])\n",
    "plt.ylabel(\"False positive rate\")\n",
    "plt.xlabel(\"True positive rate\")\n",
    "plt.yscale(\"log\")\n",
    "plt.legend()\n",
    "plt.show()"
   ]
  },
  {
   "cell_type": "code",
   "execution_count": 49,
   "metadata": {},
   "outputs": [
    {
     "data": {
      "image/png": "[encoded data removed]",
      "text/plain": [
       "<Figure size 700x600 with 1 Axes>"
      ]
     },
     "metadata": {},
     "output_type": "display_data"
    }
   ],
   "source": [
    "import matplotlib.pyplot as plt\n",
    "\n",
    "# 定义测试函数\n",
    "@torch.no_grad()\n",
    "def test(loader, model, idx=100):\n",
    "    model.eval()\n",
    "    targets_ = []\n",
    "    preds_ = []\n",
    "    for i, batch in enumerate(loader):\n",
    "        edge_index = knn_graph(batch.x[:, :2], k)\n",
    "\n",
    "        preds = model(batch.x, edge_index, batch.batch).squeeze().tolist()  # 确保输出为一维\n",
    "        targets = batch.y.squeeze().tolist()  # 确保真实值为一维\n",
    "\n",
    "        if isinstance(preds, float):  # 如果是单个值，直接追加\n",
    "            preds_ += [preds]\n",
    "        else:  # 如果是列表，则追加解包后的值\n",
    "            preds_ += preds\n",
    "\n",
    "        if isinstance(targets, float):  # 同上\n",
    "            targets_ += [targets]\n",
    "        else:\n",
    "            targets_ += targets\n",
    "\n",
    "        if i == idx:\n",
    "            break\n",
    "    return preds_, targets_\n",
    "\n",
    "\n",
    "# 获取预测值和真实值\n",
    "preds_, targets_ = test(test_loader, model, idx=100)\n",
    "\n",
    "# 计算差值\n",
    "differences = [pred - target for pred, target in zip(preds_, targets_)]\n",
    "\n",
    "# 绘制差值分布图\n",
    "fig, ax = plt.subplots(figsize=[7, 6])\n",
    "ax.hist(differences, bins=30, color='skyblue', alpha=0.7, label='Prediction - Target')\n",
    "ax.axvline(0, color='red', linestyle='dashed', linewidth=2, label='Zero Difference')\n",
    "\n",
    "# 添加图例和标签\n",
    "plt.xlabel('Difference (Prediction - Target)')\n",
    "plt.ylabel('Frequency')\n",
    "plt.title('Distribution of Differences')\n",
    "plt.legend()\n",
    "plt.show()\n"
   ]
  },
  {
   "cell_type": "markdown",
   "metadata": {},
   "source": [
    "## Run real training"
   ]
  },
  {
   "cell_type": "code",
   "execution_count": 26,
   "metadata": {
    "tags": []
   },
   "outputs": [
    {
     "name": "stdout",
     "output_type": "stream",
     "text": [
      "Device 0: NVIDIA A100-SXM4-40GB\n",
      "Device 1: NVIDIA A100-SXM4-40GB\n",
      "Device 2: NVIDIA A100-SXM4-40GB\n",
      "Device 3: NVIDIA A100-SXM4-40GB\n",
      "ParticleNet(\n",
      "  (edge_conv_blocks): ModuleList(\n",
      "    (0): EdgeConvBlock(\n",
      "      (edge_conv): EdgeConv_lrp(nn=Sequential(\n",
      "        (0): Linear(in_features=14, out_features=64, bias=True)\n",
      "        (1): BatchNorm1d(64, eps=1e-05, momentum=0.1, affine=True, track_running_stats=True)\n",
      "        (2): ReLU()\n",
      "        (3): Linear(in_features=64, out_features=64, bias=True)\n",
      "        (4): BatchNorm1d(64, eps=1e-05, momentum=0.1, affine=True, track_running_stats=True)\n",
      "        (5): ReLU()\n",
      "      ))\n",
      "    )\n",
      "    (1): EdgeConvBlock(\n",
      "      (edge_conv): EdgeConv_lrp(nn=Sequential(\n",
      "        (0): Linear(in_features=142, out_features=128, bias=True)\n",
      "        (1): BatchNorm1d(128, eps=1e-05, momentum=0.1, affine=True, track_running_stats=True)\n",
      "        (2): ReLU()\n",
      "        (3): Linear(in_features=128, out_features=128, bias=True)\n",
      "        (4): BatchNorm1d(128, eps=1e-05, momentum=0.1, affine=True, track_running_stats=True)\n",
      "        (5): ReLU()\n",
      "      ))\n",
      "    )\n",
      "    (2): EdgeConvBlock(\n",
      "      (edge_conv): EdgeConv_lrp(nn=Sequential(\n",
      "        (0): Linear(in_features=398, out_features=256, bias=True)\n",
      "        (1): BatchNorm1d(256, eps=1e-05, momentum=0.1, affine=True, track_running_stats=True)\n",
      "        (2): ReLU()\n",
      "        (3): Linear(in_features=256, out_features=256, bias=True)\n",
      "        (4): BatchNorm1d(256, eps=1e-05, momentum=0.1, affine=True, track_running_stats=True)\n",
      "        (5): ReLU()\n",
      "      ))\n",
      "    )\n",
      "  )\n",
      "  (fc1): Linear(in_features=455, out_features=256, bias=True)\n",
      "  (fc2): Linear(in_features=256, out_features=1, bias=True)\n",
      "  (sig): Sigmoid()\n",
      ")\n",
      "Model prefix: ParticleNet_model\n",
      "- loading datafiles for training...\n",
      "--- loading only 1000 events for quick train\n",
      "--- loading only 1000 events for quick val\n",
      "- training over 3 epochs\n",
      "---->Initiating a training run\n",
      "Average inference time per batch is 0.928s\n",
      "---->Initiating a validation run\n",
      "Average inference time per batch is 0.02s\n",
      "epoch=1 / 3 train_loss=0.725 valid_loss=0.6961 stale=0 time=0.18m eta=0.4m\n",
      "----------------------------------------------------------\n",
      "---->Initiating a training run\n",
      "Average inference time per batch is 0.022s\n",
      "---->Initiating a validation run\n",
      "Average inference time per batch is 0.02s\n",
      "epoch=2 / 3 train_loss=0.6942 valid_loss=0.6598 stale=0 time=0.03m eta=0.1m\n",
      "----------------------------------------------------------\n",
      "---->Initiating a training run\n",
      "Average inference time per batch is 0.021s\n",
      "---->Initiating a validation run\n",
      "Average inference time per batch is 0.019s\n",
      "epoch=3 / 3 train_loss=0.6789 valid_loss=0.6395 stale=0 time=0.03m eta=0.0m\n",
      "----------------------------------------------------------\n",
      "Done with training. Total training time is 0.244min\n",
      "- loading datafiles for testing...\n",
      "--- loading only 1000 events for quick test\n",
      "- making predictions\n",
      "- saving predictions\n",
      "- making Roc curves\n"
     ]
    }
   ],
   "source": [
    "! python -m xai4hep.particlenet.run_training --quick --model_prefix=ParticleNet_model --dataset /global/cfs/cdirs/ntrain2/data/toptagging --outpath $PWD/experiments"
   ]
  },
  {
   "cell_type": "markdown",
   "metadata": {},
   "source": [
    "## Calculate LRP scores"
   ]
  },
  {
   "cell_type": "code",
   "execution_count": 27,
   "metadata": {
    "tags": []
   },
   "outputs": [
    {
     "name": "stdout",
     "output_type": "stream",
     "text": [
      "Will use GPU model: NVIDIA A100-SXM4-40GB\n",
      "Runing the LRP pipeline to compute the Rscores for the model at epoch -1\n",
      "- loading datafiles for lrp studies...\n",
      "--- loading only 1000 events for quick test\n",
      "ParticleNet(\n",
      "  (edge_conv_blocks): ModuleList(\n",
      "    (0): EdgeConvBlock(\n",
      "      (edge_conv): EdgeConv_lrp(nn=Sequential(\n",
      "        (0): Linear(in_features=14, out_features=64, bias=True)\n",
      "        (1): BatchNorm1d(64, eps=1e-05, momentum=0.1, affine=True, track_running_stats=True)\n",
      "        (2): ReLU()\n",
      "        (3): Linear(in_features=64, out_features=64, bias=True)\n",
      "        (4): BatchNorm1d(64, eps=1e-05, momentum=0.1, affine=True, track_running_stats=True)\n",
      "        (5): ReLU()\n",
      "      ))\n",
      "    )\n",
      "    (1): EdgeConvBlock(\n",
      "      (edge_conv): EdgeConv_lrp(nn=Sequential(\n",
      "        (0): Linear(in_features=142, out_features=128, bias=True)\n",
      "        (1): BatchNorm1d(128, eps=1e-05, momentum=0.1, affine=True, track_running_stats=True)\n",
      "        (2): ReLU()\n",
      "        (3): Linear(in_features=128, out_features=128, bias=True)\n",
      "        (4): BatchNorm1d(128, eps=1e-05, momentum=0.1, affine=True, track_running_stats=True)\n",
      "        (5): ReLU()\n",
      "      ))\n",
      "    )\n",
      "    (2): EdgeConvBlock(\n",
      "      (edge_conv): EdgeConv_lrp(nn=Sequential(\n",
      "        (0): Linear(in_features=398, out_features=256, bias=True)\n",
      "        (1): BatchNorm1d(256, eps=1e-05, momentum=0.1, affine=True, track_running_stats=True)\n",
      "        (2): ReLU()\n",
      "        (3): Linear(in_features=256, out_features=256, bias=True)\n",
      "        (4): BatchNorm1d(256, eps=1e-05, momentum=0.1, affine=True, track_running_stats=True)\n",
      "        (5): ReLU()\n",
      "      ))\n",
      "    )\n",
      "  )\n",
      "  (fc1): Linear(in_features=455, out_features=256, bias=True)\n",
      "  (fc2): Linear(in_features=256, out_features=1, bias=True)\n",
      "  (sig): Sigmoid()\n",
      ")\n",
      "Explaining jet # 0: DataBatch(x=[33, 7], y=[1], px=[33], py=[33], pz=[33], E=[33], batch=[33], ptr=[2])\n",
      "Sum of R_scores of the output: 0.447\n",
      "R_scores after 'fc2' layer: 0.447\n",
      "R_scores after 'fc1' layer: 0.447\n",
      "R_scores after global_pooling 0.447\n",
      "R_scores after EdgeConv # 2: 0.4469\n",
      "R_scores after EdgeConv # 1: 0.4336\n",
      "R_scores after EdgeConv # 0: -0.1562\n",
      "------------------------------------------------------\n",
      "Explaining jet # 1: DataBatch(x=[57, 7], y=[1], px=[57], py=[57], pz=[57], E=[57], batch=[57], ptr=[2])\n",
      "Sum of R_scores of the output: 0.3579\n",
      "R_scores after 'fc2' layer: 0.3579\n",
      "R_scores after 'fc1' layer: 0.3579\n",
      "R_scores after global_pooling 0.3579\n",
      "R_scores after EdgeConv # 2: 0.3579\n",
      "R_scores after EdgeConv # 1: 0.3574\n",
      "R_scores after EdgeConv # 0: 0.3594\n",
      "------------------------------------------------------\n",
      "Explaining jet # 2: DataBatch(x=[50, 7], y=[1], px=[50], py=[50], pz=[50], E=[50], batch=[50], ptr=[2])\n",
      "Sum of R_scores of the output: 0.2085\n",
      "R_scores after 'fc2' layer: 0.2085\n",
      "R_scores after 'fc1' layer: 0.2085\n",
      "R_scores after global_pooling 0.2085\n",
      "R_scores after EdgeConv # 2: 0.2085\n",
      "R_scores after EdgeConv # 1: 0.2109\n",
      "R_scores after EdgeConv # 0: 0.0508\n",
      "------------------------------------------------------\n",
      "Explaining jet # 3: DataBatch(x=[35, 7], y=[1], px=[35], py=[35], pz=[35], E=[35], batch=[35], ptr=[2])\n",
      "Sum of R_scores of the output: 0.0691\n",
      "R_scores after 'fc2' layer: 0.0691\n",
      "R_scores after 'fc1' layer: 0.0691\n",
      "R_scores after global_pooling 0.0691\n",
      "R_scores after EdgeConv # 2: 0.0691\n",
      "R_scores after EdgeConv # 1: 0.069\n",
      "R_scores after EdgeConv # 0: -0.3438\n",
      "------------------------------------------------------\n",
      "Explaining jet # 4: DataBatch(x=[49, 7], y=[1], px=[49], py=[49], pz=[49], E=[49], batch=[49], ptr=[2])\n",
      "Sum of R_scores of the output: 0.1759\n",
      "R_scores after 'fc2' layer: 0.1759\n",
      "R_scores after 'fc1' layer: 0.1759\n",
      "R_scores after global_pooling 0.1759\n",
      "R_scores after EdgeConv # 2: 0.1759\n",
      "R_scores after EdgeConv # 1: 0.1768\n",
      "R_scores after EdgeConv # 0: 0.1484\n",
      "------------------------------------------------------\n",
      "Finished computing the Rscores for the model at epoch -1\n",
      "Computing the deltaR and invariant mass distributions of the most relevant edges at epoch -1\n",
      "- saved the plot as /global/u2/t/train278/lbnl-2023/top_tagging_gnn/experiments/ParticleNet_model/xai/dr_plots/dr_best.pdf\n",
      "- saved the plot as /global/u2/t/train278/lbnl-2023/top_tagging_gnn/experiments/ParticleNet_model/xai/Mij_plots/Mij_best.pdf\n",
      "Computing the fraction of relevant edges connecting different subjets for the model at epoch -1\n",
      "Total # of jets is 5\n",
      "- Declustering jet # 0 using CA algorithm\n",
      "#--------------------------------------------------------------------------\n",
      "#                         FastJet release 3.4.1\n",
      "#                 M. Cacciari, G.P. Salam and G. Soyez                  \n",
      "#     A software package for jet finding and analysis at colliders      \n",
      "#                           http://fastjet.fr                           \n",
      "#\t                                                                      \n",
      "# Please cite EPJC72(2012)1896 [arXiv:1111.6097] if you use this package\n",
      "# for scientific work and optionally PLB641(2006)57 [hep-ph/0512210].   \n",
      "#                                                                       \n",
      "# FastJet is provided without warranty under the GNU GPL v2 or higher.  \n",
      "# It uses T. Chan's closest pair algorithm, S. Fortune's Voronoi code,\n",
      "# CGAL and 3rd party plugin jet algorithms. See COPYING file for details.\n",
      "#--------------------------------------------------------------------------\n",
      "- Declustering jet # 1 using CA algorithm\n",
      "- Declustering jet # 2 using CA algorithm\n",
      "- Declustering jet # 3 using CA algorithm\n",
      "- Declustering jet # 4 using CA algorithm\n",
      "saved the plot as /global/u2/t/train278/lbnl-2023/top_tagging_gnn/experiments/ParticleNet_model/xai/scaling_up/scaling_up_best.pdf\n"
     ]
    }
   ],
   "source": [
    "! python -m xai4hep.run_lrp_particlenet --quick --model_prefix=ParticleNet_model --run_lrp --make_dr_Mij_plots --scaling_up --dataset /global/cfs/cdirs/ntrain2/data/toptagging --outpath $PWD/experiments"
   ]
  },
  {
   "cell_type": "code",
   "execution_count": null,
   "metadata": {},
   "outputs": [],
   "source": []
  }
 ],
 "metadata": {
  "kernelspec": {
   "display_name": "Python 3 (ipykernel)",
   "language": "python",
   "name": "python3"
  },
  "language_info": {
   "codemirror_mode": {
    "name": "ipython",
    "version": 3
   },
   "file_extension": ".py",
   "mimetype": "text/x-python",
   "name": "python",
   "nbconvert_exporter": "python",
   "pygments_lexer": "ipython3",
   "version": "3.11.5"
  }
 },
 "nbformat": 4,
 "nbformat_minor": 4
}
